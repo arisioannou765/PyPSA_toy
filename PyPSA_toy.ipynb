{
 "cells": [
  {
   "cell_type": "code",
   "execution_count": 2,
   "id": "5811147b-794a-49ae-843b-abdc3f393142",
   "metadata": {
    "editable": true,
    "slideshow": {
     "slide_type": ""
    },
    "tags": []
   },
   "outputs": [
    {
     "name": "stdout",
     "output_type": "stream",
     "text": [
      "PyPSA: 0.35.2\n"
     ]
    }
   ],
   "source": [
    "#  functions\n",
    "import pypsa, pandas as pd, numpy as np\n",
    "print(\"PyPSA:\", pypsa.__version__)\n",
    "def summarize(n):\n",
    "    tables = [\"buses\",\"loads\",\"generators\",\"lines\",\"links\",\"transformers\",\"storage_units\"]\n",
    "    counts = {t: getattr(n, t).shape[0] for t in tables}\n",
    "    print(f\"Network: {getattr(n, 'name', 'unknown')}\")\n",
    "    print(\"Snapshots:\", len(getattr(n, \"snapshots\", [])))\n",
    "    for t,c in counts.items():\n",
    "        print(f\"{t:14s}: {c}\")\n",
    "    if hasattr(n, \"carriers\") and not n.carriers.empty:\n",
    "        print(\"\\nCarriers defined:\", \", \".join(n.carriers.index))\n",
    "    else:\n",
    "        print(\"\\nCarriers defined: none\")"
   ]
  },
  {
   "cell_type": "code",
   "execution_count": 6,
   "id": "58bb74d3-567c-445c-9a00-29727982f6a8",
   "metadata": {
    "editable": true,
    "slideshow": {
     "slide_type": ""
    },
    "tags": []
   },
   "outputs": [
    {
     "name": "stderr",
     "output_type": "stream",
     "text": [
      "INFO:linopy.model: Solve problem using Highs solver\n",
      "INFO:linopy.io: Writing time: 0.06s\n",
      "INFO:linopy.constants: Optimization successful: \n",
      "Status: ok\n",
      "Termination condition: optimal\n",
      "Solution: 245 primals, 555 duals\n",
      "Objective: 1.73e+04\n",
      "Solver model: available\n",
      "Solver message: Optimal\n",
      "\n",
      "INFO:pypsa.optimization.optimize:The shadow-prices of the constraints Generator-ext-p-lower, Generator-ext-p-upper, Generator-ext-p-ramp_limit_up, Generator-ext-p-ramp_limit_down, StorageUnit-ext-p_dispatch-lower, StorageUnit-ext-p_dispatch-upper, StorageUnit-ext-p_store-lower, StorageUnit-ext-p_store-upper, StorageUnit-ext-state_of_charge-lower, StorageUnit-ext-state_of_charge-upper, StorageUnit-energy_balance were not assigned to the network.\n"
     ]
    },
    {
     "name": "stdout",
     "output_type": "stream",
     "text": [
      "Running HiGHS 1.11.0 (git hash: 364c83a): Copyright (c) 2025 HiGHS under MIT licence terms\n",
      "LP   linopy-problem-6i2r92n2 has 555 rows; 245 cols; 1197 nonzeros\n",
      "Coefficient ranges:\n",
      "  Matrix [6e-02, 9e+01]\n",
      "  Cost   [2e+00, 1e+03]\n",
      "  Bound  [2e+00, 8e+00]\n",
      "  RHS    [2e+00, 2e+01]\n",
      "Presolving model\n",
      "358 rows, 245 cols, 1000 nonzeros  0s\n",
      "Dependent equations search running on 71 equations with time limit of 1000.00s\n",
      "Dependent equations search removed 0 rows and 0 nonzeros in 0.00s (limit = 1000.00s)\n",
      "357 rows, 244 cols, 998 nonzeros  0s\n",
      "Presolve : Reductions: rows 357(-198); columns 244(-1); elements 998(-199)\n",
      "Solving the presolved LP\n",
      "Using EKK dual simplex solver - serial\n",
      "  Iteration        Objective     Infeasibilities num(sum)\n",
      "          0    -1.0800000000e+06 Ph1: 72(75976); Du: 24(1080) 0s\n",
      "        220     1.7297279097e+04 Pr: 0(0) 0s\n",
      "Solving the original LP from the solution after postsolve\n",
      "Model name          : linopy-problem-6i2r92n2\n",
      "Model status        : Optimal\n",
      "Simplex   iterations: 220\n",
      "Objective value     :  1.7297279097e+04\n",
      "P-D objective error :  2.1031479167e-16\n",
      "HiGHS run time      :          0.00\n",
      "Writing the solution to /tmp/linopy-solve-wjlngki9.sol\n",
      "Optimal capacities (MW):\n",
      " Generator\n",
      "wind       3.609989\n",
      "ocgt       3.371422\n",
      "coal_pp    2.368768\n",
      "Name: p_nom_opt, dtype: float64\n",
      "\n",
      "Dispatch (first 9 hours, MW):\n",
      " Generator                wind      ocgt   coal_pp\n",
      "snapshot                                         \n",
      "2025-01-01 00:00:00  2.793973  3.371422  2.368768\n",
      "2025-01-01 01:00:00  1.584347  3.371422  2.368768\n",
      "2025-01-01 02:00:00  3.099529  3.371422  2.368768\n",
      "2025-01-01 03:00:00  2.517491  3.371422  2.368768\n",
      "2025-01-01 04:00:00  0.339979  3.371422  2.368768\n",
      "2025-01-01 05:00:00  3.521986  3.371422  2.368768\n",
      "2025-01-01 06:00:00  2.747706  3.371422  2.368768\n",
      "2025-01-01 07:00:00  2.837684  3.371422  2.368768\n",
      "2025-01-01 08:00:00  0.462489  3.371422  2.368768\n",
      "PyPSA Network 'toy-24h'\n"
     ]
    }
   ],
   "source": [
    "n = pypsa.Network()\n",
    "n.name = \"toy-24h\"\n",
    "# time snapshots, add number of shots, define yearly scale\n",
    "hours = pd.date_range(\"2025-01-01\", periods=24, freq=\"h\")\n",
    "n.set_snapshots(hours)\n",
    "H=len(n.snapshots)\n",
    "w = 8760/H\n",
    "\n",
    "# define carriers\n",
    "n.add(\"Carrier\",\"electricity\")\n",
    "n.add(\"Carrier\",\"wind\")\n",
    "n.add(\"Carrier\",\"gas\")\n",
    "n.add(\"Carrier\",\"battery\")  \n",
    "n.add(\"Carrier\", \"coal\")\n",
    "n.add(\"Carrier\", \"hydro\")\n",
    "# add bus\n",
    "n.add(\"Bus\",\"bus0\", carrier=\"electricity\")\n",
    "\n",
    "# add load, match snapshots, assume sin pattern, vary 5 MW to 15 MW throughout day\n",
    "hangles = np.linspace(0, 2*np.pi, H, endpoint=False)\n",
    "p = 10 + 5*np.sin(hangles)\n",
    "n.add(\"Load\",\"demand\", bus=\"bus0\",\n",
    "      p_set=p)\n",
    "\n",
    "# add wind generator, small random marginal cost, random loads between 0 and 1, scale CAPEX to daily\n",
    "rng = np.random.default_rng(42)\n",
    "n.add(\"Generator\",\"wind\", bus=\"bus0\", carrier=\"wind\",\n",
    "      p_max_pu=rng.random(H),\n",
    "      p_nom_extendable=True,\n",
    "      marginal_cost=2,\n",
    "      capital_cost=900)\n",
    "\n",
    "# add gas generator, built for backup, high marginal cost\n",
    "n.add(\"Generator\",\"ocgt\", bus=\"bus0\", carrier=\"gas\",\n",
    "      p_nom_extendable=True,\n",
    "      marginal_cost=70,\n",
    "      capital_cost=500)\n",
    "\n",
    "#  add battery storage, high efficiency\n",
    "n.add(\"StorageUnit\",\"battery\", bus=\"bus0\",\n",
    "      p_nom_extendable=True, max_hours=2,\n",
    "      efficiency_store=0.95, efficiency_dispatch=0.95,\n",
    "      carrier=\"battery\",\n",
    "      capital_cost=120)\n",
    "#add coal power plant (high capital cost, lower marginal than gas, stable load, include variation)\n",
    "n.add(\n",
    "    \"Generator\", \"coal_pp\",\n",
    "    bus=\"bus0\", carrier=\"coal\",\n",
    "    p_nom_extendable=True,\n",
    "    capital_cost=650,\n",
    "    marginal_cost=45.0,\n",
    "    p_min_pu=0.50,\n",
    "    ramp_limit_up=0.10,\n",
    "    ramp_limit_down=0.10\n",
    ")\n",
    "# add hydro reservoir, high capital cost, no fuel cost\n",
    "n.add(\"StorageUnit\", \"hydro_dam\", bus=\"bus0\", carrier=\"hydro\",\n",
    "      p_nom_extendable=True,\n",
    "      max_hours=90,     #90 hour reservoir\n",
    "      efficiency_store=1.0,\n",
    "      efficiency_dispatch=0.90, #loss during conversion\n",
    "      standing_loss=0.001,         # evaporation loss\n",
    "      capital_cost=1000,\n",
    "      marginal_cost=0.0)\n",
    "\n",
    "#model inflow of dam\n",
    "inflow = pd.Series(5.0 + 3.0*np.sin(hangles),\n",
    "                   index=n.snapshots)\n",
    "\n",
    "# assign the inflow to the dam\n",
    "n.storage_units_t.inflow.loc[:, \"hydro_dam\"] = inflow\n",
    "# optimize free variables\n",
    "n.optimize(solver_name=\"highs\")\n",
    "\n",
    "#print size and dispatch\n",
    "print(\"Optimal capacities (MW):\\n\", n.generators.p_nom_opt)\n",
    "print(\"\\nDispatch (first 9 hours, MW):\\n\", n.generators_t.p.head(9))\n",
    "print(n)"
   ]
  },
  {
   "cell_type": "code",
   "execution_count": 123,
   "id": "fbe2416d-0532-48bc-997a-88ef8bcad167",
   "metadata": {
    "editable": true,
    "slideshow": {
     "slide_type": ""
    },
    "tags": []
   },
   "outputs": [],
   "source": [
    "inflow = pd.Series(5.0 + 3.0*np.sin(hangles),\n",
    "                   index=n.snapshots)"
   ]
  },
  {
   "cell_type": "code",
   "execution_count": 7,
   "id": "613fc6c9-6ac4-45fc-9e96-693b0fc83ba8",
   "metadata": {},
   "outputs": [
    {
     "name": "stdout",
     "output_type": "stream",
     "text": [
      "/home/aris/projects/pypsa-nl\n"
     ]
    }
   ],
   "source": [
    "!pwd"
   ]
  },
  {
   "cell_type": "code",
   "execution_count": null,
   "id": "bf60f6a8-7447-4d50-b586-472c52b673bf",
   "metadata": {},
   "outputs": [],
   "source": []
  }
 ],
 "metadata": {
  "kernelspec": {
   "display_name": "Python 3 (ipykernel)",
   "language": "python",
   "name": "python3"
  },
  "language_info": {
   "codemirror_mode": {
    "name": "ipython",
    "version": 3
   },
   "file_extension": ".py",
   "mimetype": "text/x-python",
   "name": "python",
   "nbconvert_exporter": "python",
   "pygments_lexer": "ipython3",
   "version": "3.10.12"
  }
 },
 "nbformat": 4,
 "nbformat_minor": 5
}
