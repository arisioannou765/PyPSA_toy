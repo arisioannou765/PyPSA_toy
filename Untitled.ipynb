{
 "cells": [
  {
   "cell_type": "code",
   "execution_count": 18,
   "id": "5811147b-794a-49ae-843b-abdc3f393142",
   "metadata": {},
   "outputs": [
    {
     "name": "stdout",
     "output_type": "stream",
     "text": [
      "PyPSA: 0.35.2\n"
     ]
    }
   ],
   "source": [
    "#  functions\n",
    "import pypsa, pandas as pd, numpy as np\n",
    "print(\"PyPSA:\", pypsa.__version__)\n",
    "def summarize(n):\n",
    "    tables = [\"buses\",\"loads\",\"generators\",\"lines\",\"links\",\"transformers\",\"storage_units\"]\n",
    "    counts = {t: getattr(n, t).shape[0] for t in tables}\n",
    "    print(f\"Network: {getattr(n, 'name', 'unknown')}\")\n",
    "    print(\"Snapshots:\", len(getattr(n, \"snapshots\", [])))\n",
    "    for t,c in counts.items():\n",
    "        print(f\"{t:14s}: {c}\")\n",
    "    if hasattr(n, \"carriers\") and not n.carriers.empty:\n",
    "        print(\"\\nCarriers defined:\", \", \".join(n.carriers.index))\n",
    "    else:\n",
    "        print(\"\\nCarriers defined: none\")"
   ]
  },
  {
   "cell_type": "code",
   "execution_count": 125,
   "id": "58bb74d3-567c-445c-9a00-29727982f6a8",
   "metadata": {
    "editable": true,
    "slideshow": {
     "slide_type": ""
    },
    "tags": []
   },
   "outputs": [
    {
     "name": "stderr",
     "output_type": "stream",
     "text": [
      "INFO:linopy.model: Solve problem using Highs solver\n",
      "INFO:linopy.io: Writing time: 0.08s\n",
      "INFO:linopy.constants: Optimization successful: \n",
      "Status: ok\n",
      "Termination condition: optimal\n",
      "Solution: 245 primals, 555 duals\n",
      "Objective: 2.10e+04\n",
      "Solver model: available\n",
      "Solver message: Optimal\n",
      "\n",
      "INFO:pypsa.optimization.optimize:The shadow-prices of the constraints Generator-ext-p-lower, Generator-ext-p-upper, Generator-ext-p-ramp_limit_up, Generator-ext-p-ramp_limit_down, StorageUnit-ext-p_dispatch-lower, StorageUnit-ext-p_dispatch-upper, StorageUnit-ext-p_store-lower, StorageUnit-ext-p_store-upper, StorageUnit-ext-state_of_charge-lower, StorageUnit-ext-state_of_charge-upper, StorageUnit-energy_balance were not assigned to the network.\n"
     ]
    },
    {
     "name": "stdout",
     "output_type": "stream",
     "text": [
      "Running HiGHS 1.11.0 (git hash: 364c83a): Copyright (c) 2025 HiGHS under MIT licence terms\n",
      "LP   linopy-problem-lkstvgv0 has 555 rows; 245 cols; 1197 nonzeros\n",
      "Coefficient ranges:\n",
      "  Matrix [6e-02, 9e+01]\n",
      "  Cost   [2e+00, 8e+05]\n",
      "  Bound  [2e+00, 8e+00]\n",
      "  RHS    [2e+00, 2e+01]\n",
      "Presolving model\n",
      "358 rows, 245 cols, 1000 nonzeros  0s\n",
      "Dependent equations search running on 71 equations with time limit of 1000.00s\n",
      "Dependent equations search removed 0 rows and 0 nonzeros in 0.00s (limit = 1000.00s)\n",
      "357 rows, 244 cols, 998 nonzeros  0s\n",
      "Presolve : Reductions: rows 357(-198); columns 244(-1); elements 998(-199)\n",
      "Solving the presolved LP\n",
      "Using EKK dual simplex solver - serial\n",
      "  Iteration        Objective     Infeasibilities num(sum)\n",
      "          0    -1.0800000000e+06 Ph1: 72(75976); Du: 24(1080) 0s\n",
      "        222     2.1005145662e+04 Pr: 0(0) 0s\n",
      "Solving the original LP from the solution after postsolve\n",
      "Model name          : linopy-problem-lkstvgv0\n",
      "Model status        : Optimal\n",
      "Simplex   iterations: 222\n",
      "Objective value     :  2.1005145662e+04\n",
      "P-D objective error :  1.7319052533e-16\n",
      "HiGHS run time      :          0.00\n",
      "Writing the solution to /tmp/linopy-solve-q8w_8cdm.sol\n",
      "Optimal capacities (MW):\n",
      " Generator\n",
      "wind       9.101852\n",
      "ocgt       8.214253\n",
      "coal_pp   -0.000000\n",
      "Name: p_nom_opt, dtype: float64\n",
      "\n",
      "Dispatch (first 9 hours, MW):\n",
      " Generator                wind      ocgt  coal_pp\n",
      "snapshot                                        \n",
      "2025-01-01 00:00:00  7.044433  8.214253     -0.0\n",
      "2025-01-01 01:00:00  3.994607  8.214253     -0.0\n",
      "2025-01-01 02:00:00  7.814831  8.214253     -0.0\n",
      "2025-01-01 03:00:00  6.347341  8.214253     -0.0\n",
      "2025-01-01 04:00:00  0.857188  8.214253     -0.0\n",
      "2025-01-01 05:00:00  8.879970  8.214253     -0.0\n",
      "2025-01-01 06:00:00  6.927781  8.214253     -0.0\n",
      "2025-01-01 07:00:00  7.154641  8.214253     -0.0\n",
      "2025-01-01 08:00:00  1.166071  8.214253     -0.0\n",
      "PyPSA Network 'toy-24h'\n"
     ]
    }
   ],
   "source": [
    "n = pypsa.Network()\n",
    "n.name = \"toy-24h\"\n",
    "# time snapshots, add number of shots, define yearly scale\n",
    "hours = pd.date_range(\"2025-01-01\", periods=24, freq=\"h\")\n",
    "n.set_snapshots(hours)\n",
    "H=len(n.snapshots)\n",
    "w = 8760/H\n",
    "\n",
    "# define carriers\n",
    "n.add(\"Carrier\",\"electricity\")\n",
    "n.add(\"Carrier\",\"wind\")\n",
    "n.add(\"Carrier\",\"gas\")\n",
    "n.add(\"Carrier\",\"battery\")  \n",
    "n.add(\"Carrier\", \"coal\")\n",
    "n.add(\"Carrier\", \"hydro\")\n",
    "# add bus\n",
    "n.add(\"Bus\",\"bus0\", carrier=\"electricity\")\n",
    "\n",
    "# add load, match snapshots, assume sin pattern, vary 5 MW to 15 MW throughout day\n",
    "hangles = np.linspace(0, 2*np.pi, H, endpoint=False)\n",
    "p = 10 + 5*np.sin(hangles)\n",
    "n.add(\"Load\",\"demand\", bus=\"bus0\",\n",
    "      p_set=p)\n",
    "\n",
    "# add wind generator, small random marginal cost, random loads between 0 and 1, scale CAPEX to daily\n",
    "rng = np.random.default_rng(42)\n",
    "n.add(\"Generator\",\"wind\", bus=\"bus0\", carrier=\"wind\",\n",
    "      p_max_pu=rng.random(H),\n",
    "      p_nom_extendable=True,\n",
    "      marginal_cost=2,\n",
    "      capital_cost=900)\n",
    "\n",
    "# add gas generator, built for backup, high marginal cost\n",
    "n.add(\"Generator\",\"ocgt\", bus=\"bus0\", carrier=\"gas\",\n",
    "      p_nom_extendable=True,\n",
    "      marginal_cost=70,\n",
    "      capital_cost=500)\n",
    "\n",
    "#  add battery storage, high efficiency\n",
    "n.add(\"StorageUnit\",\"battery\", bus=\"bus0\",\n",
    "      p_nom_extendable=True, max_hours=2,\n",
    "      efficiency_store=0.95, efficiency_dispatch=0.95,\n",
    "      carrier=\"battery\",\n",
    "      capital_cost=120)\n",
    "#add coal power plant (high capital cost, lower marginal than gas, stable load, include variation)\n",
    "n.add(\n",
    "    \"Generator\", \"coal_pp\",\n",
    "    bus=\"bus0\", carrier=\"coal\",\n",
    "    p_nom_extendable=True,\n",
    "    capital_cost=800_000,\n",
    "    marginal_cost=45.0,\n",
    "    p_min_pu=0.50,\n",
    "    ramp_limit_up=0.10,\n",
    "    ramp_limit_down=0.10\n",
    ")\n",
    "# add hydro reservoir, high capital cost, no fuel cost\n",
    "n.add(\"StorageUnit\", \"hydro_dam\", bus=\"bus0\", carrier=\"hydro\",\n",
    "      p_nom_extendable=True,\n",
    "      max_hours=90,     #90 hour reservoir\n",
    "      efficiency_store=1.0,\n",
    "      efficiency_dispatch=0.90, #loss during conversion\n",
    "      standing_loss=0.001,         # evaporation loss\n",
    "      capital_cost=300_000,\n",
    "      marginal_cost=0.0)\n",
    "\n",
    "#model inflow of dam\n",
    "inflow = pd.Series(5.0 + 3.0*np.sin(hangles),\n",
    "                   index=n.snapshots)\n",
    "\n",
    "# assign the inflow to the storage unit\n",
    "n.storage_units_t.inflow.loc[:, \"hydro_dam\"] = inflow\n",
    "# optimize free variables\n",
    "n.optimize(solver_name=\"highs\")\n",
    "\n",
    "#print size and dispatch\n",
    "print(\"Optimal capacities (MW):\\n\", n.generators.p_nom_opt)\n",
    "print(\"\\nDispatch (first 9 hours, MW):\\n\", n.generators_t.p.head(9))\n",
    "print(n)"
   ]
  },
  {
   "cell_type": "code",
   "execution_count": 123,
   "id": "fbe2416d-0532-48bc-997a-88ef8bcad167",
   "metadata": {},
   "outputs": [],
   "source": [
    "inflow = pd.Series(5.0 + 3.0*np.sin(hangles),\n",
    "                   index=n.snapshots)"
   ]
  },
  {
   "cell_type": "code",
   "execution_count": 118,
   "id": "64a350c7-741f-4a75-967f-1c986274dfa8",
   "metadata": {},
   "outputs": [
    {
     "data": {
      "text/plain": [
       "array([0.        , 0.26179939, 0.52359878, 0.78539816, 1.04719755,\n",
       "       1.30899694, 1.57079633, 1.83259571, 2.0943951 , 2.35619449,\n",
       "       2.61799388, 2.87979327, 3.14159265, 3.40339204, 3.66519143,\n",
       "       3.92699082, 4.1887902 , 4.45058959, 4.71238898, 4.97418837,\n",
       "       5.23598776, 5.49778714, 5.75958653, 6.02138592])"
      ]
     },
     "execution_count": 118,
     "metadata": {},
     "output_type": "execute_result"
    }
   ],
   "source": [
    "hangles"
   ]
  },
  {
   "cell_type": "code",
   "execution_count": 120,
   "id": "85f45edc-8239-4994-a461-d5b24506bfbc",
   "metadata": {},
   "outputs": [
    {
     "data": {
      "text/plain": [
       "array([0.        , 0.26179939, 0.52359878, 0.78539816, 1.04719755,\n",
       "       1.30899694, 1.57079633, 1.83259571, 2.0943951 , 2.35619449,\n",
       "       2.61799388, 2.87979327, 3.14159265, 3.40339204, 3.66519143,\n",
       "       3.92699082, 4.1887902 , 4.45058959, 4.71238898, 4.97418837,\n",
       "       5.23598776, 5.49778714, 5.75958653, 6.02138592])"
      ]
     },
     "execution_count": 120,
     "metadata": {},
     "output_type": "execute_result"
    }
   ],
   "source": [
    "np.linspace(0, 2*np.pi, len(n.snapshots), endpoint=False)"
   ]
  },
  {
   "cell_type": "code",
   "execution_count": null,
   "id": "26ccc99b-bf01-4e4d-8e54-392785845d83",
   "metadata": {},
   "outputs": [],
   "source": []
  }
 ],
 "metadata": {
  "kernelspec": {
   "display_name": "Python 3 (ipykernel)",
   "language": "python",
   "name": "python3"
  },
  "language_info": {
   "codemirror_mode": {
    "name": "ipython",
    "version": 3
   },
   "file_extension": ".py",
   "mimetype": "text/x-python",
   "name": "python",
   "nbconvert_exporter": "python",
   "pygments_lexer": "ipython3",
   "version": "3.10.12"
  }
 },
 "nbformat": 4,
 "nbformat_minor": 5
}
